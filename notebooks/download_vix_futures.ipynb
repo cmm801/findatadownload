{
 "cells": [
  {
   "cell_type": "markdown",
   "metadata": {},
   "source": [
    "### VIX Futures\n",
    "\n",
    "A script for downloading VIX futures data from multiple expiries, \n",
    "and combining into a single pandas DataFrame."
   ]
  },
  {
   "cell_type": "code",
   "execution_count": 13,
   "metadata": {},
   "outputs": [],
   "source": [
    "import datetime\n",
    "import numpy as np\n",
    "import pandas as pd\n",
    "import tqdm\n",
    "\n",
    "import findatadownload as fdd\n",
    "\n",
    "OUTPUT_FILENAME = '/Users/chris/OneDrive/programming/projects/finance/secdata/ts_data/vix_futures.csv'"
   ]
  },
  {
   "cell_type": "code",
   "execution_count": 2,
   "metadata": {},
   "outputs": [],
   "source": [
    "def get_vix_expiries(start=None, end=None):\n",
    "    \"\"\" Get all VIX expiry dates between the start/end. \"\"\"\n",
    "    start = None\n",
    "    end = None\n",
    "\n",
    "    if start is None:\n",
    "        start = datetime.date(2013, 1, 1)\n",
    "\n",
    "    if end is None:\n",
    "        end = datetime.date.today() + pd.DateOffset(years=1)\n",
    "\n",
    "    # Get the expiry dates from the meta data\n",
    "    meta_filename = '/Users/chris/OneDrive/programming/projects/finance/secdata/meta_data/sec_info/FUT.csv'\n",
    "    meta_df = pd.read_csv(meta_filename)\n",
    "    \n",
    "    # Only retrieve expiries that are between start/end\n",
    "    expiries = meta_df.query('contract_code == \"VX\"').last_trade_date.astype(np.datetime64)\n",
    "    expiries = [d.to_pydatetime().date() for d in expiries if start <= d and d <= end]    \n",
    "    return expiries"
   ]
  },
  {
   "cell_type": "code",
   "execution_count": null,
   "metadata": {},
   "outputs": [],
   "source": [
    "# Get all VIX expiries\n",
    "expiries = get_vix_expiries()\n",
    "\n",
    "# Get the index data\n",
    "ind_data = fdd.download_time_series('cboe', 'VIX')\n",
    "series_types = [s[s.find(\"(\")+1:s.find(\")\")] for s in ind_data.columns]\n",
    "ind_data.columns = series_types\n",
    "\n",
    "df_list = [ind_data]\n",
    "for expiry in tqdm.tqdm(expiries):\n",
    "    # Form the ticker that is required by findatadownload\n",
    "    base_ticker = 'VX{}'.format(expiry.strftime('%Y-%m-%d'))\n",
    "\n",
    "    # Download the data from the .csv on the CBOE website\n",
    "    df = fdd.download_time_series('cboe', base_ticker)\n",
    "\n",
    "    # Remove the ticker name from the columns\n",
    "    series_types = [s[s.find(\"(\")+1:s.find(\")\")] for s in df.columns]\n",
    "    df.columns = series_types\n",
    "    \n",
    "    # Add the expiry date to the columns\n",
    "    df['expiration_date'] = expiry\n",
    "    \n",
    "    # Append the DataFrame to the list\n",
    "    df_list.append(df)"
   ]
  },
  {
   "cell_type": "code",
   "execution_count": 26,
   "metadata": {},
   "outputs": [],
   "source": [
    "# Save the data\n",
    "df = pd.concat(df_list, axis=0)\n",
    "#df.to_csv(OUTPUT_FILENAME)"
   ]
  },
  {
   "cell_type": "code",
   "execution_count": 48,
   "metadata": {},
   "outputs": [],
   "source": [
    "# Load saved data\n",
    "\n",
    "df = pd.read_csv(OUTPUT_FILENAME)\n",
    "df.set_index('pricing_date', inplace=True)\n",
    "df.index = pd.DatetimeIndex(fut_data.index)"
   ]
  },
  {
   "cell_type": "code",
   "execution_count": null,
   "metadata": {},
   "outputs": [],
   "source": []
  },
  {
   "cell_type": "code",
   "execution_count": null,
   "metadata": {},
   "outputs": [],
   "source": []
  },
  {
   "cell_type": "code",
   "execution_count": null,
   "metadata": {},
   "outputs": [],
   "source": []
  },
  {
   "cell_type": "code",
   "execution_count": null,
   "metadata": {},
   "outputs": [],
   "source": []
  }
 ],
 "metadata": {
  "kernelspec": {
   "display_name": "pyfin",
   "language": "python",
   "name": "pyfin"
  },
  "language_info": {
   "codemirror_mode": {
    "name": "ipython",
    "version": 3
   },
   "file_extension": ".py",
   "mimetype": "text/x-python",
   "name": "python",
   "nbconvert_exporter": "python",
   "pygments_lexer": "ipython3",
   "version": "3.7.9"
  }
 },
 "nbformat": 4,
 "nbformat_minor": 4
}
